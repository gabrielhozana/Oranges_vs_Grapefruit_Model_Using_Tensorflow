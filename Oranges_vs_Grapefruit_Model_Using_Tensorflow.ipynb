{
  "nbformat": 4,
  "nbformat_minor": 0,
  "metadata": {
    "colab": {
      "name": "Oranges vs. Grapefruit Model Using Tensorflow.ipynb",
      "provenance": [],
      "authorship_tag": "ABX9TyMq43AOyXGe2xCEHTxpJak6",
      "include_colab_link": true
    },
    "kernelspec": {
      "name": "python3",
      "display_name": "Python 3"
    },
    "language_info": {
      "name": "python"
    }
  },
  "cells": [
    {
      "cell_type": "markdown",
      "metadata": {
        "id": "view-in-github",
        "colab_type": "text"
      },
      "source": [
        "<a href=\"https://colab.research.google.com/github/gabrielhozana/Oranges_vs_Grapefruit_Model_Using_Tensorflow/blob/main/Oranges_vs_Grapefruit_Model_Using_Tensorflow.ipynb\" target=\"_parent\"><img src=\"https://colab.research.google.com/assets/colab-badge.svg\" alt=\"Open In Colab\"/></a>"
      ]
    },
    {
      "cell_type": "code",
      "metadata": {
        "colab": {
          "base_uri": "https://localhost:8080/"
        },
        "id": "LZQBiwC4GLcY",
        "outputId": "da305889-351c-4cc6-c392-3775c8a1e357"
      },
      "source": [
        "!pip install kaggle"
      ],
      "execution_count": 2,
      "outputs": [
        {
          "output_type": "stream",
          "text": [
            "Requirement already satisfied: kaggle in /usr/local/lib/python3.7/dist-packages (1.5.12)\n",
            "Requirement already satisfied: python-slugify in /usr/local/lib/python3.7/dist-packages (from kaggle) (5.0.2)\n",
            "Requirement already satisfied: python-dateutil in /usr/local/lib/python3.7/dist-packages (from kaggle) (2.8.1)\n",
            "Requirement already satisfied: requests in /usr/local/lib/python3.7/dist-packages (from kaggle) (2.23.0)\n",
            "Requirement already satisfied: tqdm in /usr/local/lib/python3.7/dist-packages (from kaggle) (4.41.1)\n",
            "Requirement already satisfied: six>=1.10 in /usr/local/lib/python3.7/dist-packages (from kaggle) (1.15.0)\n",
            "Requirement already satisfied: certifi in /usr/local/lib/python3.7/dist-packages (from kaggle) (2021.5.30)\n",
            "Requirement already satisfied: urllib3 in /usr/local/lib/python3.7/dist-packages (from kaggle) (1.24.3)\n",
            "Requirement already satisfied: text-unidecode>=1.3 in /usr/local/lib/python3.7/dist-packages (from python-slugify->kaggle) (1.3)\n",
            "Requirement already satisfied: idna<3,>=2.5 in /usr/local/lib/python3.7/dist-packages (from requests->kaggle) (2.10)\n",
            "Requirement already satisfied: chardet<4,>=3.0.2 in /usr/local/lib/python3.7/dist-packages (from requests->kaggle) (3.0.4)\n"
          ],
          "name": "stdout"
        }
      ]
    },
    {
      "cell_type": "code",
      "metadata": {
        "colab": {
          "resources": {
            "http://localhost:8080/nbextensions/google.colab/files.js": {
              "data": "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",
              "ok": true,
              "headers": [
                [
                  "content-type",
                  "application/javascript"
                ]
              ],
              "status": 200,
              "status_text": "OK"
            }
          },
          "base_uri": "https://localhost:8080/",
          "height": 92
        },
        "id": "y-3V9t7XHh22",
        "outputId": "83bad267-8172-481b-aa09-ce7bbc471143"
      },
      "source": [
        "# https://colab.research.google.com/github/corrieann/kaggle/blob/master/kaggle_api_in_colab.ipynb#scrollTo=hMY4CFezjcG-\n",
        "from google.colab import files\n",
        "\n",
        "uploaded = files.upload()\n",
        "\n",
        "for fn in uploaded.keys():\n",
        "  print('User uploaded file \"{name}\" with length {length} bytes'.format(\n",
        "      name=fn, length=len(uploaded[fn])))\n",
        "  \n",
        "# Then move kaggle.json into the folder where the API expects to find it.\n",
        "!mkdir -p ~/.kaggle/ && mv kaggle.json ~/.kaggle/ && chmod 600 ~/.kaggle/kaggle.json"
      ],
      "execution_count": 5,
      "outputs": [
        {
          "output_type": "display_data",
          "data": {
            "text/html": [
              "\n",
              "     <input type=\"file\" id=\"files-d540441d-695c-4a06-bc86-4d2e9ad9ca8e\" name=\"files[]\" multiple disabled\n",
              "        style=\"border:none\" />\n",
              "     <output id=\"result-d540441d-695c-4a06-bc86-4d2e9ad9ca8e\">\n",
              "      Upload widget is only available when the cell has been executed in the\n",
              "      current browser session. Please rerun this cell to enable.\n",
              "      </output>\n",
              "      <script src=\"/nbextensions/google.colab/files.js\"></script> "
            ],
            "text/plain": [
              "<IPython.core.display.HTML object>"
            ]
          },
          "metadata": {
            "tags": []
          }
        },
        {
          "output_type": "stream",
          "text": [
            "Saving kaggle.json to kaggle.json\n",
            "User uploaded file \"kaggle.json\" with length 69 bytes\n"
          ],
          "name": "stdout"
        }
      ]
    },
    {
      "cell_type": "code",
      "metadata": {
        "colab": {
          "base_uri": "https://localhost:8080/"
        },
        "id": "2IGQu-nkGeB1",
        "outputId": "46614508-d990-46d1-ff67-3e5d37d11e48"
      },
      "source": [
        "# https://www.kaggle.com/joshmcadams/oranges-vs-grapefruit?select=citrus.csv\n",
        "!kaggle datasets download -d joshmcadams/oranges-vs-grapefruit"
      ],
      "execution_count": 6,
      "outputs": [
        {
          "output_type": "stream",
          "text": [
            "Downloading oranges-vs-grapefruit.zip to /content\n",
            "\r  0% 0.00/61.2k [00:00<?, ?B/s]\n",
            "\r100% 61.2k/61.2k [00:00<00:00, 22.8MB/s]\n"
          ],
          "name": "stdout"
        }
      ]
    },
    {
      "cell_type": "code",
      "metadata": {
        "colab": {
          "base_uri": "https://localhost:8080/"
        },
        "id": "7bbnnS5KHUPk",
        "outputId": "26e227ae-7b02-4a86-eb85-f8e194c54c26"
      },
      "source": [
        "!unzip oranges-vs-grapefruit.zip"
      ],
      "execution_count": 7,
      "outputs": [
        {
          "output_type": "stream",
          "text": [
            "Archive:  oranges-vs-grapefruit.zip\n",
            "  inflating: citrus.csv              \n"
          ],
          "name": "stdout"
        }
      ]
    },
    {
      "cell_type": "code",
      "metadata": {
        "id": "_aS3RgWzH7kb"
      },
      "source": [
        "import pandas as pd\n",
        "df = pd.read_csv(\"citrus.csv\")"
      ],
      "execution_count": 9,
      "outputs": []
    },
    {
      "cell_type": "code",
      "metadata": {
        "colab": {
          "base_uri": "https://localhost:8080/"
        },
        "id": "hdkNY0nMIcci",
        "outputId": "eb119818-5c0f-41dd-ae6d-a1436b3e5ba4"
      },
      "source": [
        "df.info()"
      ],
      "execution_count": 11,
      "outputs": [
        {
          "output_type": "stream",
          "text": [
            "<class 'pandas.core.frame.DataFrame'>\n",
            "RangeIndex: 10000 entries, 0 to 9999\n",
            "Data columns (total 6 columns):\n",
            " #   Column    Non-Null Count  Dtype  \n",
            "---  ------    --------------  -----  \n",
            " 0   name      10000 non-null  object \n",
            " 1   diameter  10000 non-null  float64\n",
            " 2   weight    10000 non-null  float64\n",
            " 3   red       10000 non-null  int64  \n",
            " 4   green     10000 non-null  int64  \n",
            " 5   blue      10000 non-null  int64  \n",
            "dtypes: float64(2), int64(3), object(1)\n",
            "memory usage: 468.9+ KB\n"
          ],
          "name": "stdout"
        }
      ]
    },
    {
      "cell_type": "code",
      "metadata": {
        "colab": {
          "base_uri": "https://localhost:8080/",
          "height": 424
        },
        "id": "EA-9zcbhIhZx",
        "outputId": "5b4ab565-4009-450d-f3a8-5538bb2c2a76"
      },
      "source": [
        "df.head(10000)"
      ],
      "execution_count": 13,
      "outputs": [
        {
          "output_type": "execute_result",
          "data": {
            "text/html": [
              "<div>\n",
              "<style scoped>\n",
              "    .dataframe tbody tr th:only-of-type {\n",
              "        vertical-align: middle;\n",
              "    }\n",
              "\n",
              "    .dataframe tbody tr th {\n",
              "        vertical-align: top;\n",
              "    }\n",
              "\n",
              "    .dataframe thead th {\n",
              "        text-align: right;\n",
              "    }\n",
              "</style>\n",
              "<table border=\"1\" class=\"dataframe\">\n",
              "  <thead>\n",
              "    <tr style=\"text-align: right;\">\n",
              "      <th></th>\n",
              "      <th>name</th>\n",
              "      <th>diameter</th>\n",
              "      <th>weight</th>\n",
              "      <th>red</th>\n",
              "      <th>green</th>\n",
              "      <th>blue</th>\n",
              "    </tr>\n",
              "  </thead>\n",
              "  <tbody>\n",
              "    <tr>\n",
              "      <th>0</th>\n",
              "      <td>orange</td>\n",
              "      <td>2.96</td>\n",
              "      <td>86.76</td>\n",
              "      <td>172</td>\n",
              "      <td>85</td>\n",
              "      <td>2</td>\n",
              "    </tr>\n",
              "    <tr>\n",
              "      <th>1</th>\n",
              "      <td>orange</td>\n",
              "      <td>3.91</td>\n",
              "      <td>88.05</td>\n",
              "      <td>166</td>\n",
              "      <td>78</td>\n",
              "      <td>3</td>\n",
              "    </tr>\n",
              "    <tr>\n",
              "      <th>2</th>\n",
              "      <td>orange</td>\n",
              "      <td>4.42</td>\n",
              "      <td>95.17</td>\n",
              "      <td>156</td>\n",
              "      <td>81</td>\n",
              "      <td>2</td>\n",
              "    </tr>\n",
              "    <tr>\n",
              "      <th>3</th>\n",
              "      <td>orange</td>\n",
              "      <td>4.47</td>\n",
              "      <td>95.60</td>\n",
              "      <td>163</td>\n",
              "      <td>81</td>\n",
              "      <td>4</td>\n",
              "    </tr>\n",
              "    <tr>\n",
              "      <th>4</th>\n",
              "      <td>orange</td>\n",
              "      <td>4.48</td>\n",
              "      <td>95.76</td>\n",
              "      <td>161</td>\n",
              "      <td>72</td>\n",
              "      <td>9</td>\n",
              "    </tr>\n",
              "    <tr>\n",
              "      <th>...</th>\n",
              "      <td>...</td>\n",
              "      <td>...</td>\n",
              "      <td>...</td>\n",
              "      <td>...</td>\n",
              "      <td>...</td>\n",
              "      <td>...</td>\n",
              "    </tr>\n",
              "    <tr>\n",
              "      <th>9995</th>\n",
              "      <td>grapefruit</td>\n",
              "      <td>15.35</td>\n",
              "      <td>253.89</td>\n",
              "      <td>149</td>\n",
              "      <td>77</td>\n",
              "      <td>20</td>\n",
              "    </tr>\n",
              "    <tr>\n",
              "      <th>9996</th>\n",
              "      <td>grapefruit</td>\n",
              "      <td>15.41</td>\n",
              "      <td>254.67</td>\n",
              "      <td>148</td>\n",
              "      <td>68</td>\n",
              "      <td>7</td>\n",
              "    </tr>\n",
              "    <tr>\n",
              "      <th>9997</th>\n",
              "      <td>grapefruit</td>\n",
              "      <td>15.59</td>\n",
              "      <td>256.50</td>\n",
              "      <td>168</td>\n",
              "      <td>82</td>\n",
              "      <td>20</td>\n",
              "    </tr>\n",
              "    <tr>\n",
              "      <th>9998</th>\n",
              "      <td>grapefruit</td>\n",
              "      <td>15.92</td>\n",
              "      <td>260.14</td>\n",
              "      <td>142</td>\n",
              "      <td>72</td>\n",
              "      <td>11</td>\n",
              "    </tr>\n",
              "    <tr>\n",
              "      <th>9999</th>\n",
              "      <td>grapefruit</td>\n",
              "      <td>16.45</td>\n",
              "      <td>261.51</td>\n",
              "      <td>152</td>\n",
              "      <td>74</td>\n",
              "      <td>2</td>\n",
              "    </tr>\n",
              "  </tbody>\n",
              "</table>\n",
              "<p>10000 rows × 6 columns</p>\n",
              "</div>"
            ],
            "text/plain": [
              "            name  diameter  weight  red  green  blue\n",
              "0         orange      2.96   86.76  172     85     2\n",
              "1         orange      3.91   88.05  166     78     3\n",
              "2         orange      4.42   95.17  156     81     2\n",
              "3         orange      4.47   95.60  163     81     4\n",
              "4         orange      4.48   95.76  161     72     9\n",
              "...          ...       ...     ...  ...    ...   ...\n",
              "9995  grapefruit     15.35  253.89  149     77    20\n",
              "9996  grapefruit     15.41  254.67  148     68     7\n",
              "9997  grapefruit     15.59  256.50  168     82    20\n",
              "9998  grapefruit     15.92  260.14  142     72    11\n",
              "9999  grapefruit     16.45  261.51  152     74     2\n",
              "\n",
              "[10000 rows x 6 columns]"
            ]
          },
          "metadata": {
            "tags": []
          },
          "execution_count": 13
        }
      ]
    },
    {
      "cell_type": "code",
      "metadata": {
        "colab": {
          "base_uri": "https://localhost:8080/"
        },
        "id": "KRZfvWhLIyqp",
        "outputId": "f48d934a-0cd2-48b8-a2a8-2ce19f0e56b3"
      },
      "source": [
        "#ubah label\n",
        "df.name[df.name == 'orange'] = 0\n",
        "df.name[df.name == 'grapefruit'] = 1"
      ],
      "execution_count": 14,
      "outputs": [
        {
          "output_type": "stream",
          "text": [
            "/usr/local/lib/python3.7/dist-packages/ipykernel_launcher.py:1: SettingWithCopyWarning: \n",
            "A value is trying to be set on a copy of a slice from a DataFrame\n",
            "\n",
            "See the caveats in the documentation: https://pandas.pydata.org/pandas-docs/stable/user_guide/indexing.html#returning-a-view-versus-a-copy\n",
            "  \"\"\"Entry point for launching an IPython kernel.\n",
            "/usr/local/lib/python3.7/dist-packages/ipykernel_launcher.py:2: SettingWithCopyWarning: \n",
            "A value is trying to be set on a copy of a slice from a DataFrame\n",
            "\n",
            "See the caveats in the documentation: https://pandas.pydata.org/pandas-docs/stable/user_guide/indexing.html#returning-a-view-versus-a-copy\n",
            "  \n"
          ],
          "name": "stderr"
        }
      ]
    },
    {
      "cell_type": "code",
      "metadata": {
        "id": "lLCgYsM3JKJd"
      },
      "source": [
        "#dataset harus dalam bentuk array agar dapat diproses oleh model\n",
        "dataset = df.values"
      ],
      "execution_count": 15,
      "outputs": []
    },
    {
      "cell_type": "code",
      "metadata": {
        "colab": {
          "base_uri": "https://localhost:8080/"
        },
        "id": "GNWJnCmZJz9O",
        "outputId": "066b7593-ab53-4cac-a733-11baaf216714"
      },
      "source": [
        "dataset"
      ],
      "execution_count": 16,
      "outputs": [
        {
          "output_type": "execute_result",
          "data": {
            "text/plain": [
              "array([[0, 2.96, 86.76, 172, 85, 2],\n",
              "       [0, 3.91, 88.05, 166, 78, 3],\n",
              "       [0, 4.42, 95.17, 156, 81, 2],\n",
              "       ...,\n",
              "       [1, 15.59, 256.5, 168, 82, 20],\n",
              "       [1, 15.92, 260.14, 142, 72, 11],\n",
              "       [1, 16.45, 261.51, 152, 74, 2]], dtype=object)"
            ]
          },
          "metadata": {
            "tags": []
          },
          "execution_count": 16
        }
      ]
    },
    {
      "cell_type": "code",
      "metadata": {
        "id": "ubea2HkeKF0d"
      },
      "source": [
        "# pilih 4 kolom terakhir sebagai atribut\n",
        "X = dataset[:,1:6]\n",
        "# bilangan sebelum koma untuk memilih baris pada dataframe\n",
        "# bilangan setelah koma untuk memilih kolom pada dataframe"
      ],
      "execution_count": 17,
      "outputs": []
    },
    {
      "cell_type": "code",
      "metadata": {
        "id": "01CKKt-oKWU5"
      },
      "source": [
        "y = dataset[:,0]"
      ],
      "execution_count": 18,
      "outputs": []
    },
    {
      "cell_type": "code",
      "metadata": {
        "colab": {
          "base_uri": "https://localhost:8080/"
        },
        "id": "nkikWh52Kdb4",
        "outputId": "c74220ba-dbb1-4799-ad81-54de70e972ee"
      },
      "source": [
        "# Normalization\n",
        "from sklearn import preprocessing\n",
        "min_max_scaler = preprocessing.MinMaxScaler()\n",
        "X_scale = min_max_scaler.fit_transform(X)\n",
        "X_scale"
      ],
      "execution_count": 19,
      "outputs": [
        {
          "output_type": "execute_result",
          "data": {
            "text/plain": [
              "array([[0.        , 0.        , 0.74025974, 0.63529412, 0.        ],\n",
              "       [0.07042254, 0.00738197, 0.66233766, 0.55294118, 0.01851852],\n",
              "       [0.10822832, 0.04812589, 0.53246753, 0.58823529, 0.        ],\n",
              "       ...,\n",
              "       [0.93624907, 0.97133047, 0.68831169, 0.6       , 0.33333333],\n",
              "       [0.96071164, 0.99216023, 0.35064935, 0.48235294, 0.16666667],\n",
              "       [1.        , 1.        , 0.48051948, 0.50588235, 0.        ]])"
            ]
          },
          "metadata": {
            "tags": []
          },
          "execution_count": 19
        }
      ]
    },
    {
      "cell_type": "code",
      "metadata": {
        "id": "J9i0NMuqKqaL"
      },
      "source": [
        "# pisahkan data training dan testing\n",
        "from sklearn.model_selection import train_test_split\n",
        "X_train, X_test, Y_train, Y_test = train_test_split(X_scale, y, test_size=0.3)"
      ],
      "execution_count": 20,
      "outputs": []
    },
    {
      "cell_type": "code",
      "metadata": {
        "id": "UZ-BtXHNK3K7"
      },
      "source": [
        "'''Karena tadi kita mengubah nilai-nilai pada kolom name menjadi bilangan numerik, yang artinya kita mengubah label menjadi tipe data boolean, \n",
        "maka kita perlu mengubah tipe data tersebut menjadi float32 dengan cara berikut.\n",
        "'''\n",
        "import numpy as np\n",
        "     \n",
        "Y_train = Y_train.astype(np.float32)\n",
        "Y_test = Y_test.astype(np.float32)"
      ],
      "execution_count": 21,
      "outputs": []
    },
    {
      "cell_type": "code",
      "metadata": {
        "id": "0al7SNnoLPqs"
      },
      "source": [
        "from keras.models import Sequential\n",
        "from keras.layers import Dense"
      ],
      "execution_count": 22,
      "outputs": []
    },
    {
      "cell_type": "code",
      "metadata": {
        "colab": {
          "base_uri": "https://localhost:8080/"
        },
        "id": "kdXVI_uuMBB4",
        "outputId": "0de4ee5c-7679-4817-c564-ba94edd614cc"
      },
      "source": [
        "X_train.shape"
      ],
      "execution_count": 24,
      "outputs": [
        {
          "output_type": "execute_result",
          "data": {
            "text/plain": [
              "(7000, 5)"
            ]
          },
          "metadata": {
            "tags": []
          },
          "execution_count": 24
        }
      ]
    },
    {
      "cell_type": "code",
      "metadata": {
        "id": "X9mu-TkwLYwx"
      },
      "source": [
        "model = Sequential([\n",
        "                    Dense(32, activation='relu', input_shape=(5,)),\n",
        "                    Dense(32, activation='relu'),\n",
        "                    Dense(1, activation='sigmoid'),])"
      ],
      "execution_count": 25,
      "outputs": []
    },
    {
      "cell_type": "code",
      "metadata": {
        "id": "scLA0gNZMfga"
      },
      "source": [
        "model.compile(optimizer='sgd',\n",
        "              loss='binary_crossentropy',\n",
        "              metrics=['accuracy'])"
      ],
      "execution_count": 26,
      "outputs": []
    },
    {
      "cell_type": "code",
      "metadata": {
        "colab": {
          "base_uri": "https://localhost:8080/"
        },
        "id": "jRSWCndEMrV1",
        "outputId": "54afb3c7-a44c-4a51-fb2d-93948872b06c"
      },
      "source": [
        "model.fit(X_train, Y_train, epochs=100)"
      ],
      "execution_count": 27,
      "outputs": [
        {
          "output_type": "stream",
          "text": [
            "Epoch 1/100\n",
            "219/219 [==============================] - 15s 1ms/step - loss: 0.6774 - accuracy: 0.5165\n",
            "Epoch 2/100\n",
            "219/219 [==============================] - 0s 1ms/step - loss: 0.6232 - accuracy: 0.7748\n",
            "Epoch 3/100\n",
            "219/219 [==============================] - 0s 1ms/step - loss: 0.5596 - accuracy: 0.8858\n",
            "Epoch 4/100\n",
            "219/219 [==============================] - 0s 1ms/step - loss: 0.4705 - accuracy: 0.9089\n",
            "Epoch 5/100\n",
            "219/219 [==============================] - 0s 1ms/step - loss: 0.3804 - accuracy: 0.9194\n",
            "Epoch 6/100\n",
            "219/219 [==============================] - 0s 1ms/step - loss: 0.3031 - accuracy: 0.9286\n",
            "Epoch 7/100\n",
            "219/219 [==============================] - 0s 1ms/step - loss: 0.2614 - accuracy: 0.9216\n",
            "Epoch 8/100\n",
            "219/219 [==============================] - 0s 1ms/step - loss: 0.2301 - accuracy: 0.9248\n",
            "Epoch 9/100\n",
            "219/219 [==============================] - 0s 1ms/step - loss: 0.2143 - accuracy: 0.9239\n",
            "Epoch 10/100\n",
            "219/219 [==============================] - 0s 1ms/step - loss: 0.2012 - accuracy: 0.9242\n",
            "Epoch 11/100\n",
            "219/219 [==============================] - 0s 1ms/step - loss: 0.1985 - accuracy: 0.9221\n",
            "Epoch 12/100\n",
            "219/219 [==============================] - 0s 1ms/step - loss: 0.1935 - accuracy: 0.9216\n",
            "Epoch 13/100\n",
            "219/219 [==============================] - 0s 1ms/step - loss: 0.1916 - accuracy: 0.9246\n",
            "Epoch 14/100\n",
            "219/219 [==============================] - 0s 1ms/step - loss: 0.1936 - accuracy: 0.9206\n",
            "Epoch 15/100\n",
            "219/219 [==============================] - 0s 1ms/step - loss: 0.1837 - accuracy: 0.9269\n",
            "Epoch 16/100\n",
            "219/219 [==============================] - 0s 1ms/step - loss: 0.1866 - accuracy: 0.9251\n",
            "Epoch 17/100\n",
            "219/219 [==============================] - 0s 1ms/step - loss: 0.1781 - accuracy: 0.9289\n",
            "Epoch 18/100\n",
            "219/219 [==============================] - 0s 1ms/step - loss: 0.1845 - accuracy: 0.9269\n",
            "Epoch 19/100\n",
            "219/219 [==============================] - 0s 1ms/step - loss: 0.1906 - accuracy: 0.9240\n",
            "Epoch 20/100\n",
            "219/219 [==============================] - 0s 1ms/step - loss: 0.1837 - accuracy: 0.9262\n",
            "Epoch 21/100\n",
            "219/219 [==============================] - 0s 1ms/step - loss: 0.1764 - accuracy: 0.9300\n",
            "Epoch 22/100\n",
            "219/219 [==============================] - 0s 1ms/step - loss: 0.1846 - accuracy: 0.9273\n",
            "Epoch 23/100\n",
            "219/219 [==============================] - 0s 1ms/step - loss: 0.1817 - accuracy: 0.9252\n",
            "Epoch 24/100\n",
            "219/219 [==============================] - 0s 1ms/step - loss: 0.1857 - accuracy: 0.9247\n",
            "Epoch 25/100\n",
            "219/219 [==============================] - 0s 1ms/step - loss: 0.1792 - accuracy: 0.9275\n",
            "Epoch 26/100\n",
            "219/219 [==============================] - 0s 1ms/step - loss: 0.1766 - accuracy: 0.9267\n",
            "Epoch 27/100\n",
            "219/219 [==============================] - 0s 1ms/step - loss: 0.1778 - accuracy: 0.9304\n",
            "Epoch 28/100\n",
            "219/219 [==============================] - 0s 1ms/step - loss: 0.1843 - accuracy: 0.9236\n",
            "Epoch 29/100\n",
            "219/219 [==============================] - 0s 1ms/step - loss: 0.1839 - accuracy: 0.9241\n",
            "Epoch 30/100\n",
            "219/219 [==============================] - 0s 1ms/step - loss: 0.1931 - accuracy: 0.9208\n",
            "Epoch 31/100\n",
            "219/219 [==============================] - 0s 1ms/step - loss: 0.1770 - accuracy: 0.9303\n",
            "Epoch 32/100\n",
            "219/219 [==============================] - 0s 1ms/step - loss: 0.1838 - accuracy: 0.9233\n",
            "Epoch 33/100\n",
            "219/219 [==============================] - 0s 1ms/step - loss: 0.1819 - accuracy: 0.9249\n",
            "Epoch 34/100\n",
            "219/219 [==============================] - 0s 1ms/step - loss: 0.1810 - accuracy: 0.9251\n",
            "Epoch 35/100\n",
            "219/219 [==============================] - 0s 1ms/step - loss: 0.1876 - accuracy: 0.9246\n",
            "Epoch 36/100\n",
            "219/219 [==============================] - 0s 1ms/step - loss: 0.1911 - accuracy: 0.9236\n",
            "Epoch 37/100\n",
            "219/219 [==============================] - 0s 1ms/step - loss: 0.1875 - accuracy: 0.9235\n",
            "Epoch 38/100\n",
            "219/219 [==============================] - 0s 1ms/step - loss: 0.1860 - accuracy: 0.9245\n",
            "Epoch 39/100\n",
            "219/219 [==============================] - 0s 1ms/step - loss: 0.1821 - accuracy: 0.9276\n",
            "Epoch 40/100\n",
            "219/219 [==============================] - 0s 1ms/step - loss: 0.1901 - accuracy: 0.9228\n",
            "Epoch 41/100\n",
            "219/219 [==============================] - 0s 1ms/step - loss: 0.1842 - accuracy: 0.9233\n",
            "Epoch 42/100\n",
            "219/219 [==============================] - 0s 1ms/step - loss: 0.1830 - accuracy: 0.9251\n",
            "Epoch 43/100\n",
            "219/219 [==============================] - 0s 1ms/step - loss: 0.1759 - accuracy: 0.9277\n",
            "Epoch 44/100\n",
            "219/219 [==============================] - 0s 1ms/step - loss: 0.1776 - accuracy: 0.9276\n",
            "Epoch 45/100\n",
            "219/219 [==============================] - 0s 1ms/step - loss: 0.1732 - accuracy: 0.9312\n",
            "Epoch 46/100\n",
            "219/219 [==============================] - 0s 1ms/step - loss: 0.1673 - accuracy: 0.9332\n",
            "Epoch 47/100\n",
            "219/219 [==============================] - 0s 1ms/step - loss: 0.1797 - accuracy: 0.9272\n",
            "Epoch 48/100\n",
            "219/219 [==============================] - 0s 1ms/step - loss: 0.1779 - accuracy: 0.9310\n",
            "Epoch 49/100\n",
            "219/219 [==============================] - 0s 1ms/step - loss: 0.1887 - accuracy: 0.9222\n",
            "Epoch 50/100\n",
            "219/219 [==============================] - 0s 1ms/step - loss: 0.1781 - accuracy: 0.9253\n",
            "Epoch 51/100\n",
            "219/219 [==============================] - 0s 1ms/step - loss: 0.1775 - accuracy: 0.9254\n",
            "Epoch 52/100\n",
            "219/219 [==============================] - 0s 1ms/step - loss: 0.1939 - accuracy: 0.9196\n",
            "Epoch 53/100\n",
            "219/219 [==============================] - 0s 1ms/step - loss: 0.1887 - accuracy: 0.9245\n",
            "Epoch 54/100\n",
            "219/219 [==============================] - 0s 1ms/step - loss: 0.1688 - accuracy: 0.9314\n",
            "Epoch 55/100\n",
            "219/219 [==============================] - 0s 1ms/step - loss: 0.1858 - accuracy: 0.9260\n",
            "Epoch 56/100\n",
            "219/219 [==============================] - 0s 1ms/step - loss: 0.1755 - accuracy: 0.9289\n",
            "Epoch 57/100\n",
            "219/219 [==============================] - 0s 1ms/step - loss: 0.1760 - accuracy: 0.9261\n",
            "Epoch 58/100\n",
            "219/219 [==============================] - 0s 1ms/step - loss: 0.1850 - accuracy: 0.9247\n",
            "Epoch 59/100\n",
            "219/219 [==============================] - 0s 1ms/step - loss: 0.1878 - accuracy: 0.9229\n",
            "Epoch 60/100\n",
            "219/219 [==============================] - 0s 1ms/step - loss: 0.1777 - accuracy: 0.9296\n",
            "Epoch 61/100\n",
            "219/219 [==============================] - 0s 1ms/step - loss: 0.1691 - accuracy: 0.9317\n",
            "Epoch 62/100\n",
            "219/219 [==============================] - 0s 1ms/step - loss: 0.1881 - accuracy: 0.9216\n",
            "Epoch 63/100\n",
            "219/219 [==============================] - 0s 1ms/step - loss: 0.1838 - accuracy: 0.9225\n",
            "Epoch 64/100\n",
            "219/219 [==============================] - 0s 1ms/step - loss: 0.1788 - accuracy: 0.9230\n",
            "Epoch 65/100\n",
            "219/219 [==============================] - 0s 1ms/step - loss: 0.1793 - accuracy: 0.9278\n",
            "Epoch 66/100\n",
            "219/219 [==============================] - 0s 1ms/step - loss: 0.1817 - accuracy: 0.9275\n",
            "Epoch 67/100\n",
            "219/219 [==============================] - 0s 1ms/step - loss: 0.1976 - accuracy: 0.9199\n",
            "Epoch 68/100\n",
            "219/219 [==============================] - 0s 1ms/step - loss: 0.1881 - accuracy: 0.9233\n",
            "Epoch 69/100\n",
            "219/219 [==============================] - 0s 1ms/step - loss: 0.1884 - accuracy: 0.9242\n",
            "Epoch 70/100\n",
            "219/219 [==============================] - 0s 1ms/step - loss: 0.1793 - accuracy: 0.9233\n",
            "Epoch 71/100\n",
            "219/219 [==============================] - 0s 1ms/step - loss: 0.1758 - accuracy: 0.9286\n",
            "Epoch 72/100\n",
            "219/219 [==============================] - 0s 1ms/step - loss: 0.1805 - accuracy: 0.9256\n",
            "Epoch 73/100\n",
            "219/219 [==============================] - 0s 1ms/step - loss: 0.1896 - accuracy: 0.9266\n",
            "Epoch 74/100\n",
            "219/219 [==============================] - 0s 1ms/step - loss: 0.1710 - accuracy: 0.9275\n",
            "Epoch 75/100\n",
            "219/219 [==============================] - 0s 1ms/step - loss: 0.1816 - accuracy: 0.9305\n",
            "Epoch 76/100\n",
            "219/219 [==============================] - 0s 1ms/step - loss: 0.1782 - accuracy: 0.9270\n",
            "Epoch 77/100\n",
            "219/219 [==============================] - 0s 1ms/step - loss: 0.1858 - accuracy: 0.9242\n",
            "Epoch 78/100\n",
            "219/219 [==============================] - 0s 1ms/step - loss: 0.1892 - accuracy: 0.9225\n",
            "Epoch 79/100\n",
            "219/219 [==============================] - 0s 1ms/step - loss: 0.1817 - accuracy: 0.9272\n",
            "Epoch 80/100\n",
            "219/219 [==============================] - 0s 1ms/step - loss: 0.1807 - accuracy: 0.9238\n",
            "Epoch 81/100\n",
            "219/219 [==============================] - 0s 1ms/step - loss: 0.1813 - accuracy: 0.9266\n",
            "Epoch 82/100\n",
            "219/219 [==============================] - 0s 1ms/step - loss: 0.1787 - accuracy: 0.9249\n",
            "Epoch 83/100\n",
            "219/219 [==============================] - 0s 1ms/step - loss: 0.1733 - accuracy: 0.9300\n",
            "Epoch 84/100\n",
            "219/219 [==============================] - 0s 1ms/step - loss: 0.1818 - accuracy: 0.9238\n",
            "Epoch 85/100\n",
            "219/219 [==============================] - 0s 1ms/step - loss: 0.1880 - accuracy: 0.9209\n",
            "Epoch 86/100\n",
            "219/219 [==============================] - 0s 1ms/step - loss: 0.1810 - accuracy: 0.9246\n",
            "Epoch 87/100\n",
            "219/219 [==============================] - 0s 1ms/step - loss: 0.1869 - accuracy: 0.9205\n",
            "Epoch 88/100\n",
            "219/219 [==============================] - 0s 1ms/step - loss: 0.1660 - accuracy: 0.9274\n",
            "Epoch 89/100\n",
            "219/219 [==============================] - 0s 1ms/step - loss: 0.1882 - accuracy: 0.9229\n",
            "Epoch 90/100\n",
            "219/219 [==============================] - 0s 1ms/step - loss: 0.1852 - accuracy: 0.9239\n",
            "Epoch 91/100\n",
            "219/219 [==============================] - 0s 1ms/step - loss: 0.1910 - accuracy: 0.9198\n",
            "Epoch 92/100\n",
            "219/219 [==============================] - 0s 1ms/step - loss: 0.1898 - accuracy: 0.9221\n",
            "Epoch 93/100\n",
            "219/219 [==============================] - 0s 1ms/step - loss: 0.1819 - accuracy: 0.9229\n",
            "Epoch 94/100\n",
            "219/219 [==============================] - 0s 1ms/step - loss: 0.1779 - accuracy: 0.9229\n",
            "Epoch 95/100\n",
            "219/219 [==============================] - 0s 1ms/step - loss: 0.1831 - accuracy: 0.9245\n",
            "Epoch 96/100\n",
            "219/219 [==============================] - 0s 1ms/step - loss: 0.1873 - accuracy: 0.9215\n",
            "Epoch 97/100\n",
            "219/219 [==============================] - 0s 1ms/step - loss: 0.1853 - accuracy: 0.9249\n",
            "Epoch 98/100\n",
            "219/219 [==============================] - 0s 1ms/step - loss: 0.1827 - accuracy: 0.9278\n",
            "Epoch 99/100\n",
            "219/219 [==============================] - 0s 1ms/step - loss: 0.1664 - accuracy: 0.9327\n",
            "Epoch 100/100\n",
            "219/219 [==============================] - 0s 1ms/step - loss: 0.1751 - accuracy: 0.9278\n"
          ],
          "name": "stdout"
        },
        {
          "output_type": "execute_result",
          "data": {
            "text/plain": [
              "<keras.callbacks.History at 0x7fca5dbbaf90>"
            ]
          },
          "metadata": {
            "tags": []
          },
          "execution_count": 27
        }
      ]
    },
    {
      "cell_type": "code",
      "metadata": {
        "colab": {
          "base_uri": "https://localhost:8080/"
        },
        "id": "SC2obhMrMxF_",
        "outputId": "f98a4f93-2a45-4dc0-ec33-9fa766147186"
      },
      "source": [
        "model.evaluate(X_test, Y_test)\n",
        "# elemen pertama adalah loss dan elemen kedua adalah akurasi"
      ],
      "execution_count": 28,
      "outputs": [
        {
          "output_type": "stream",
          "text": [
            "94/94 [==============================] - 1s 929us/step - loss: 0.1704 - accuracy: 0.9303\n"
          ],
          "name": "stdout"
        },
        {
          "output_type": "execute_result",
          "data": {
            "text/plain": [
              "[0.1704494059085846, 0.9303333163261414]"
            ]
          },
          "metadata": {
            "tags": []
          },
          "execution_count": 28
        }
      ]
    },
    {
      "cell_type": "code",
      "metadata": {
        "id": "og-7wTUkNMF2"
      },
      "source": [
        ""
      ],
      "execution_count": null,
      "outputs": []
    }
  ]
}